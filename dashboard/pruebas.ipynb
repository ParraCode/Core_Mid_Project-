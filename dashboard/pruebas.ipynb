{
 "cells": [
  {
   "cell_type": "code",
   "execution_count": 31,
   "metadata": {},
   "outputs": [],
   "source": [
    "import pandas as pd\n",
    "import numpy as np"
   ]
  },
  {
   "cell_type": "code",
   "execution_count": 32,
   "metadata": {},
   "outputs": [],
   "source": [
    "variable_columnas = [\n",
    "    {\n",
    "        \"date\": {\n",
    "            \"$date\": \"2020-03-23T00:00:00Z\"\n",
    "        },\n",
    "        \"continent\": \"Asia\",\n",
    "        \"country\": \"Afghanistan\",\n",
    "        \"totalConfirmed\": 40,\n",
    "        \"totalDeaths\": 1,\n",
    "        \"confirmedDay\": 6,\n",
    "        \"deathsDay\": 1,\n",
    "        \"icuPatients\": \"0\",\n",
    "        \"hospPatients\": \"0\",\n",
    "        \"positiveRate\": {\n",
    "            \"$numberDecimal\": \"0.0\"\n",
    "        },\n",
    "        \"newVaccinations\": 0,\n",
    "        \"vaccinatedPerHundred\": {\n",
    "            \"$numberDecimal\": \"0.0\"\n",
    "        },\n",
    "        \"fullyVaccinatedPerHundred\": {\n",
    "            \"$numberDecimal\": \"0.0\"\n",
    "        }\n",
    "    }]"
   ]
  },
  {
   "cell_type": "code",
   "execution_count": 33,
   "metadata": {},
   "outputs": [],
   "source": [
    "def limpieza_variables_pais (var):\n",
    "    lista = list(var[0].keys())\n",
    "    lista_delete = ['continent','latitude','longitude',\n",
    "                    'Year','Month','Week','Day','Year-Week']\n",
    "    for x in lista_delete:\n",
    "        if x in lista:\n",
    "            lista.remove(x)\n",
    "    return lista\n",
    "\n",
    "\n",
    "def country_one_var_df (core_df,var):\n",
    "    #def country_one_var_df (core_df,var):\n",
    "    columnas = limpieza_variables_pais(core_df)\n",
    "    core_df = pd.DataFrame(core_df, columns = columnas)\n",
    "    core_df = core_df.drop(core_df.columns.difference(['date','country',var]),axis=1)\n",
    "    core_df['date'] = core_df['date'].apply(lambda x: list(x.values())[0][0:10])\n",
    "\n",
    "    print(list(core_df.iloc[0][var].values())[0])\n",
    "    print(type(core_df.iloc[0:-1]))\n",
    "\n",
    "    if list(core_df.iloc[0][var].values())[0] >= 0:\n",
    "        core_df[var] = core_df[var].apply(lambda x: list(x.values())[0]).astype(float)\n",
    "        core_df[var] = core_df[var].astype(float)\n",
    "\n",
    "    core_df['country'] = core_df['country'].astype(str)\n",
    "    country_name = core_df['country'][0]\n",
    "    core_df = core_df.rename(columns={var: country_name})\n",
    "    core_df = core_df.drop(['country'],axis=1)\n",
    "\n",
    "    core_df['date'] = pd.to_datetime(core_df['date'])\n",
    "\n",
    "    return core_df"
   ]
  },
  {
   "cell_type": "code",
   "execution_count": 34,
   "metadata": {},
   "outputs": [
    {
     "name": "stdout",
     "output_type": "stream",
     "text": [
      "0.0\n",
      "<class 'pandas.core.frame.DataFrame'>\n"
     ]
    },
    {
     "data": {
      "text/html": [
       "<div>\n",
       "<style scoped>\n",
       "    .dataframe tbody tr th:only-of-type {\n",
       "        vertical-align: middle;\n",
       "    }\n",
       "\n",
       "    .dataframe tbody tr th {\n",
       "        vertical-align: top;\n",
       "    }\n",
       "\n",
       "    .dataframe thead th {\n",
       "        text-align: right;\n",
       "    }\n",
       "</style>\n",
       "<table border=\"1\" class=\"dataframe\">\n",
       "  <thead>\n",
       "    <tr style=\"text-align: right;\">\n",
       "      <th></th>\n",
       "      <th>date</th>\n",
       "      <th>Afghanistan</th>\n",
       "    </tr>\n",
       "  </thead>\n",
       "  <tbody>\n",
       "    <tr>\n",
       "      <th>0</th>\n",
       "      <td>2020-03-23</td>\n",
       "      <td>{'$numberDecimal': '0.0'}</td>\n",
       "    </tr>\n",
       "  </tbody>\n",
       "</table>\n",
       "</div>"
      ],
      "text/plain": [
       "        date                Afghanistan\n",
       "0 2020-03-23  {'$numberDecimal': '0.0'}"
      ]
     },
     "execution_count": 34,
     "metadata": {},
     "output_type": "execute_result"
    }
   ],
   "source": [
    "country_one_var_df(variable_columnas,'positiveRate')"
   ]
  },
  {
   "cell_type": "markdown",
   "metadata": {},
   "source": []
  },
  {
   "cell_type": "code",
   "execution_count": 35,
   "metadata": {},
   "outputs": [
    {
     "ename": "NameError",
     "evalue": "name 'var' is not defined",
     "output_type": "error",
     "traceback": [
      "\u001b[0;31m---------------------------------------------------------------------------\u001b[0m",
      "\u001b[0;31mNameError\u001b[0m                                 Traceback (most recent call last)",
      "\u001b[0;32m/tmp/ipykernel_5988/257696482.py\u001b[0m in \u001b[0;36m<module>\u001b[0;34m\u001b[0m\n\u001b[0;32m----> 1\u001b[0;31m \u001b[0mlist\u001b[0m\u001b[0;34m(\u001b[0m\u001b[0mvariable_columnas\u001b[0m\u001b[0;34m[\u001b[0m\u001b[0;36m0\u001b[0m\u001b[0;34m]\u001b[0m\u001b[0;34m[\u001b[0m\u001b[0mvar\u001b[0m\u001b[0;34m]\u001b[0m\u001b[0;34m.\u001b[0m\u001b[0mvalues\u001b[0m\u001b[0;34m(\u001b[0m\u001b[0;34m)\u001b[0m\u001b[0;34m)\u001b[0m\u001b[0;34m[\u001b[0m\u001b[0;36m0\u001b[0m\u001b[0;34m]\u001b[0m\u001b[0;34m\u001b[0m\u001b[0;34m\u001b[0m\u001b[0m\n\u001b[0m",
      "\u001b[0;31mNameError\u001b[0m: name 'var' is not defined"
     ]
    }
   ],
   "source": [
    "list(variable_columnas[0][var].values())[0]"
   ]
  },
  {
   "cell_type": "code",
   "execution_count": 36,
   "metadata": {},
   "outputs": [
    {
     "name": "stdout",
     "output_type": "stream",
     "text": [
      "hola\n"
     ]
    }
   ],
   "source": [
    "var = 'positiveRate'\n",
    "if var in ['positiveRate','vaccinatedPerHundred','fullyVaccinatedPerHundred']:\n",
    "    print('hola')"
   ]
  },
  {
   "cell_type": "code",
   "execution_count": null,
   "metadata": {},
   "outputs": [],
   "source": [
    "coreVar = {'$numberDecimal': '0.0'}"
   ]
  },
  {
   "cell_type": "code",
   "execution_count": null,
   "metadata": {},
   "outputs": [],
   "source": [
    "float(list(coreVar.values())[0])"
   ]
  },
  {
   "cell_type": "code",
   "execution_count": null,
   "metadata": {},
   "outputs": [],
   "source": [
    "type(variable_columnas[0][var].iloc[0:-1])"
   ]
  }
 ],
 "metadata": {
  "interpreter": {
   "hash": "d0493199427ef061cb3b6912ede36f63d4e203655e7b69a0bcc0db7ae4af873e"
  },
  "kernelspec": {
   "display_name": "Python 3.9.7 64-bit ('core': conda)",
   "language": "python",
   "name": "python3"
  },
  "language_info": {
   "codemirror_mode": {
    "name": "ipython",
    "version": 3
   },
   "file_extension": ".py",
   "mimetype": "text/x-python",
   "name": "python",
   "nbconvert_exporter": "python",
   "pygments_lexer": "ipython3",
   "version": "3.9.7"
  },
  "orig_nbformat": 4
 },
 "nbformat": 4,
 "nbformat_minor": 2
}
