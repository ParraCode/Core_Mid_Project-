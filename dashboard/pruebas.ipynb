{
 "cells": [
  {
   "cell_type": "code",
   "execution_count": 385,
   "metadata": {},
   "outputs": [],
   "source": [
    "import pandas as pd\n",
    "import numpy as np"
   ]
  },
  {
   "cell_type": "code",
   "execution_count": 386,
   "metadata": {},
   "outputs": [],
   "source": [
    "def variant_db_TR (core_df):\n",
    "    core_df = pd.DataFrame(core_df, columns = ['date', 'country','variant', 'year', 'latitude','longitude','continentExp'])\n",
    "    core_df['date'] = core_df['date'].apply(lambda x: list(x.values())[0][0:10])\n",
    "    core_df['latitude'] = core_df['latitude'].apply(lambda x: list(x.values())[0]).astype(float)\n",
    "    core_df['longitude'] = core_df['longitude'].apply(lambda x: list(x.values())[0]).astype(float)\n",
    "    core_df['year'] = core_df['year'].astype(int)\n",
    "    core_df['variant'] = core_df['variant'].astype(str)\n",
    "    core_df['continentExp'] = core_df['continentExp'].astype(str)\n",
    "    core_df['date'] = pd.to_datetime(core_df['date'])\n",
    "    return core_df"
   ]
  },
  {
   "cell_type": "code",
   "execution_count": 387,
   "metadata": {},
   "outputs": [],
   "source": [
    "variantes = [\n",
    "    {\n",
    "        \"date\": {\n",
    "            \"$date\": \"2020-07-06T00:00:00Z\"\n",
    "        },\n",
    "        \"country\": \"Angola\",\n",
    "        \"variant\": \"Delta\",\n",
    "        \"year\": 2020,\n",
    "        \"yearWeek\": \"2020-28\",\n",
    "        \"latitude\": {\n",
    "            \"$numberDecimal\": \"-8.833333333333334\"\n",
    "        },\n",
    "        \"longitude\": {\n",
    "            \"$numberDecimal\": \"13.216667\"\n",
    "        },\n",
    "        \"continentExp\": \"Africa\"\n",
    "    },\n",
    "    {\n",
    "        \"date\": {\n",
    "            \"$date\": \"2020-08-31T00:00:00Z\"\n",
    "        },\n",
    "        \"country\": \"Angola\",\n",
    "        \"variant\": \"Delta\",\n",
    "        \"year\": 2020,\n",
    "        \"yearWeek\": \"2020-36\",\n",
    "        \"latitude\": {\n",
    "            \"$numberDecimal\": \"-8.833333333333334\"\n",
    "        },\n",
    "        \"longitude\": {\n",
    "            \"$numberDecimal\": \"13.216667\"\n",
    "        },\n",
    "        \"continentExp\": \"Africa\"\n",
    "    }]"
   ]
  },
  {
   "cell_type": "code",
   "execution_count": 388,
   "metadata": {},
   "outputs": [
    {
     "data": {
      "text/plain": [
       "{'date': {'$date': '2020-07-06T00:00:00Z'},\n",
       " 'country': 'Angola',\n",
       " 'variant': 'Delta',\n",
       " 'year': 2020,\n",
       " 'yearWeek': '2020-28',\n",
       " 'latitude': {'$numberDecimal': '-8.833333333333334'},\n",
       " 'longitude': {'$numberDecimal': '13.216667'},\n",
       " 'continentExp': 'Africa'}"
      ]
     },
     "execution_count": 388,
     "metadata": {},
     "output_type": "execute_result"
    }
   ],
   "source": [
    "variantes[0]"
   ]
  },
  {
   "cell_type": "code",
   "execution_count": 389,
   "metadata": {},
   "outputs": [
    {
     "data": {
      "text/html": [
       "<div>\n",
       "<style scoped>\n",
       "    .dataframe tbody tr th:only-of-type {\n",
       "        vertical-align: middle;\n",
       "    }\n",
       "\n",
       "    .dataframe tbody tr th {\n",
       "        vertical-align: top;\n",
       "    }\n",
       "\n",
       "    .dataframe thead th {\n",
       "        text-align: right;\n",
       "    }\n",
       "</style>\n",
       "<table border=\"1\" class=\"dataframe\">\n",
       "  <thead>\n",
       "    <tr style=\"text-align: right;\">\n",
       "      <th></th>\n",
       "      <th>date</th>\n",
       "      <th>country</th>\n",
       "      <th>variant</th>\n",
       "      <th>year</th>\n",
       "      <th>latitude</th>\n",
       "      <th>longitude</th>\n",
       "      <th>continentExp</th>\n",
       "    </tr>\n",
       "  </thead>\n",
       "  <tbody>\n",
       "    <tr>\n",
       "      <th>0</th>\n",
       "      <td>2020-07-06</td>\n",
       "      <td>Angola</td>\n",
       "      <td>Delta</td>\n",
       "      <td>2020</td>\n",
       "      <td>-8.833333</td>\n",
       "      <td>13.216667</td>\n",
       "      <td>Africa</td>\n",
       "    </tr>\n",
       "    <tr>\n",
       "      <th>1</th>\n",
       "      <td>2020-08-31</td>\n",
       "      <td>Angola</td>\n",
       "      <td>Delta</td>\n",
       "      <td>2020</td>\n",
       "      <td>-8.833333</td>\n",
       "      <td>13.216667</td>\n",
       "      <td>Africa</td>\n",
       "    </tr>\n",
       "  </tbody>\n",
       "</table>\n",
       "</div>"
      ],
      "text/plain": [
       "        date country variant  year  latitude  longitude continentExp\n",
       "0 2020-07-06  Angola   Delta  2020 -8.833333  13.216667       Africa\n",
       "1 2020-08-31  Angola   Delta  2020 -8.833333  13.216667       Africa"
      ]
     },
     "execution_count": 389,
     "metadata": {},
     "output_type": "execute_result"
    }
   ],
   "source": [
    "variant_db_TR(variantes)"
   ]
  },
  {
   "cell_type": "code",
   "execution_count": 390,
   "metadata": {},
   "outputs": [],
   "source": [
    "def variant_TR (core_df):\n",
    "    core_df = pd.DataFrame(core_df, columns = ['date', 'country','variant', 'year', 'latitude','longitude','continentExp'])\n",
    "    core_df = core_df.drop(['date', 'country', 'year', 'latitude','longitude','continentExp'], axis=1)\n",
    "    core_df['variant'] = core_df['variant'].astype(str)\n",
    "    core_df = core_df.drop_duplicates()\n",
    "    return list(core_df['variant'])"
   ]
  },
  {
   "cell_type": "code",
   "execution_count": 391,
   "metadata": {},
   "outputs": [],
   "source": [
    "a = variant_TR(variantes)"
   ]
  },
  {
   "cell_type": "code",
   "execution_count": 392,
   "metadata": {},
   "outputs": [],
   "source": [
    "import pandas as pd\n",
    "import numpy as np"
   ]
  },
  {
   "cell_type": "code",
   "execution_count": 393,
   "metadata": {},
   "outputs": [],
   "source": [
    "df = pd.DataFrame(\n",
    "    np.random.randn(1000, 2) / [50, 50] + [37.76, -122.4],\n",
    "    columns=['lat', 'lon'])"
   ]
  },
  {
   "cell_type": "code",
   "execution_count": 394,
   "metadata": {},
   "outputs": [
    {
     "data": {
      "text/html": [
       "<div>\n",
       "<style scoped>\n",
       "    .dataframe tbody tr th:only-of-type {\n",
       "        vertical-align: middle;\n",
       "    }\n",
       "\n",
       "    .dataframe tbody tr th {\n",
       "        vertical-align: top;\n",
       "    }\n",
       "\n",
       "    .dataframe thead th {\n",
       "        text-align: right;\n",
       "    }\n",
       "</style>\n",
       "<table border=\"1\" class=\"dataframe\">\n",
       "  <thead>\n",
       "    <tr style=\"text-align: right;\">\n",
       "      <th></th>\n",
       "      <th>lat</th>\n",
       "      <th>lon</th>\n",
       "    </tr>\n",
       "  </thead>\n",
       "  <tbody>\n",
       "    <tr>\n",
       "      <th>0</th>\n",
       "      <td>37.800044</td>\n",
       "      <td>-122.378374</td>\n",
       "    </tr>\n",
       "    <tr>\n",
       "      <th>1</th>\n",
       "      <td>37.741881</td>\n",
       "      <td>-122.399531</td>\n",
       "    </tr>\n",
       "    <tr>\n",
       "      <th>2</th>\n",
       "      <td>37.772282</td>\n",
       "      <td>-122.442682</td>\n",
       "    </tr>\n",
       "    <tr>\n",
       "      <th>3</th>\n",
       "      <td>37.767684</td>\n",
       "      <td>-122.411914</td>\n",
       "    </tr>\n",
       "    <tr>\n",
       "      <th>4</th>\n",
       "      <td>37.748932</td>\n",
       "      <td>-122.375901</td>\n",
       "    </tr>\n",
       "    <tr>\n",
       "      <th>...</th>\n",
       "      <td>...</td>\n",
       "      <td>...</td>\n",
       "    </tr>\n",
       "    <tr>\n",
       "      <th>995</th>\n",
       "      <td>37.777036</td>\n",
       "      <td>-122.423694</td>\n",
       "    </tr>\n",
       "    <tr>\n",
       "      <th>996</th>\n",
       "      <td>37.802760</td>\n",
       "      <td>-122.415860</td>\n",
       "    </tr>\n",
       "    <tr>\n",
       "      <th>997</th>\n",
       "      <td>37.739344</td>\n",
       "      <td>-122.431638</td>\n",
       "    </tr>\n",
       "    <tr>\n",
       "      <th>998</th>\n",
       "      <td>37.750786</td>\n",
       "      <td>-122.377216</td>\n",
       "    </tr>\n",
       "    <tr>\n",
       "      <th>999</th>\n",
       "      <td>37.781171</td>\n",
       "      <td>-122.391465</td>\n",
       "    </tr>\n",
       "  </tbody>\n",
       "</table>\n",
       "<p>1000 rows × 2 columns</p>\n",
       "</div>"
      ],
      "text/plain": [
       "           lat         lon\n",
       "0    37.800044 -122.378374\n",
       "1    37.741881 -122.399531\n",
       "2    37.772282 -122.442682\n",
       "3    37.767684 -122.411914\n",
       "4    37.748932 -122.375901\n",
       "..         ...         ...\n",
       "995  37.777036 -122.423694\n",
       "996  37.802760 -122.415860\n",
       "997  37.739344 -122.431638\n",
       "998  37.750786 -122.377216\n",
       "999  37.781171 -122.391465\n",
       "\n",
       "[1000 rows x 2 columns]"
      ]
     },
     "execution_count": 394,
     "metadata": {},
     "output_type": "execute_result"
    }
   ],
   "source": [
    "df"
   ]
  },
  {
   "cell_type": "code",
   "execution_count": 395,
   "metadata": {},
   "outputs": [],
   "source": [
    "GREAT_CIRCLE_LAYER_DATA = \"https://raw.githubusercontent.com/visgl/deck.gl-data/master/website/flights.json\"  # noqa\n",
    "\n",
    "df = pd.read_json(GREAT_CIRCLE_LAYER_DATA)"
   ]
  },
  {
   "cell_type": "code",
   "execution_count": 396,
   "metadata": {},
   "outputs": [
    {
     "data": {
      "text/html": [
       "<div>\n",
       "<style scoped>\n",
       "    .dataframe tbody tr th:only-of-type {\n",
       "        vertical-align: middle;\n",
       "    }\n",
       "\n",
       "    .dataframe tbody tr th {\n",
       "        vertical-align: top;\n",
       "    }\n",
       "\n",
       "    .dataframe thead th {\n",
       "        text-align: right;\n",
       "    }\n",
       "</style>\n",
       "<table border=\"1\" class=\"dataframe\">\n",
       "  <thead>\n",
       "    <tr style=\"text-align: right;\">\n",
       "      <th></th>\n",
       "      <th>from</th>\n",
       "      <th>to</th>\n",
       "    </tr>\n",
       "  </thead>\n",
       "  <tbody>\n",
       "    <tr>\n",
       "      <th>0</th>\n",
       "      <td>{'type': 'major', 'name': 'San Francisco Int'l...</td>\n",
       "      <td>{'type': 'major', 'name': 'Liverpool John Lenn...</td>\n",
       "    </tr>\n",
       "    <tr>\n",
       "      <th>1</th>\n",
       "      <td>{'type': 'major', 'name': 'San Francisco Int'l...</td>\n",
       "      <td>{'type': 'major', 'name': 'Newcastle Int'l', '...</td>\n",
       "    </tr>\n",
       "    <tr>\n",
       "      <th>2</th>\n",
       "      <td>{'type': 'major', 'name': 'San Francisco Int'l...</td>\n",
       "      <td>{'type': 'major', 'name': 'Madinah Int'l', 'ab...</td>\n",
       "    </tr>\n",
       "    <tr>\n",
       "      <th>3</th>\n",
       "      <td>{'type': 'major', 'name': 'San Francisco Int'l...</td>\n",
       "      <td>{'type': 'major', 'name': 'Sakirpasa', 'abbrev...</td>\n",
       "    </tr>\n",
       "    <tr>\n",
       "      <th>4</th>\n",
       "      <td>{'type': 'major', 'name': 'San Francisco Int'l...</td>\n",
       "      <td>{'type': 'major', 'name': 'Amarillo Int'l', 'a...</td>\n",
       "    </tr>\n",
       "    <tr>\n",
       "      <th>5</th>\n",
       "      <td>{'type': 'major', 'name': 'San Francisco Int'l...</td>\n",
       "      <td>{'type': 'major', 'name': 'Birmingham Int'l', ...</td>\n",
       "    </tr>\n",
       "    <tr>\n",
       "      <th>6</th>\n",
       "      <td>{'type': 'major', 'name': 'San Francisco Int'l...</td>\n",
       "      <td>{'type': 'major', 'name': 'Logan Int'l', 'abbr...</td>\n",
       "    </tr>\n",
       "    <tr>\n",
       "      <th>7</th>\n",
       "      <td>{'type': 'major', 'name': 'San Francisco Int'l...</td>\n",
       "      <td>{'type': 'major', 'name': 'Bourgas', 'abbrev':...</td>\n",
       "    </tr>\n",
       "    <tr>\n",
       "      <th>8</th>\n",
       "      <td>{'type': 'major', 'name': 'San Francisco Int'l...</td>\n",
       "      <td>{'type': 'major', 'name': 'Bremen', 'abbrev': ...</td>\n",
       "    </tr>\n",
       "    <tr>\n",
       "      <th>9</th>\n",
       "      <td>{'type': 'major', 'name': 'San Francisco Int'l...</td>\n",
       "      <td>{'type': 'major', 'name': 'Bristol Int'l', 'ab...</td>\n",
       "    </tr>\n",
       "    <tr>\n",
       "      <th>10</th>\n",
       "      <td>{'type': 'major', 'name': 'San Francisco Int'l...</td>\n",
       "      <td>{'type': 'major', 'name': 'Baton Rouge Metro',...</td>\n",
       "    </tr>\n",
       "    <tr>\n",
       "      <th>11</th>\n",
       "      <td>{'type': 'major', 'name': 'San Francisco Int'l...</td>\n",
       "      <td>{'type': 'major', 'name': 'Bratislava-M.R. Ste...</td>\n",
       "    </tr>\n",
       "    <tr>\n",
       "      <th>12</th>\n",
       "      <td>{'type': 'major', 'name': 'San Francisco Int'l...</td>\n",
       "      <td>{'type': 'major', 'name': 'Columbia Metro', 'a...</td>\n",
       "    </tr>\n",
       "    <tr>\n",
       "      <th>13</th>\n",
       "      <td>{'type': 'major', 'name': 'San Francisco Int'l...</td>\n",
       "      <td>{'type': 'major', 'name': 'Casper/Natrona Coun...</td>\n",
       "    </tr>\n",
       "    <tr>\n",
       "      <th>14</th>\n",
       "      <td>{'type': 'major', 'name': 'San Francisco Int'l...</td>\n",
       "      <td>{'type': 'major', 'name': 'Catania Fontanaross...</td>\n",
       "    </tr>\n",
       "    <tr>\n",
       "      <th>15</th>\n",
       "      <td>{'type': 'major', 'name': 'San Francisco Int'l...</td>\n",
       "      <td>{'type': 'major', 'name': 'Cardiff', 'abbrev':...</td>\n",
       "    </tr>\n",
       "    <tr>\n",
       "      <th>16</th>\n",
       "      <td>{'type': 'major', 'name': 'San Francisco Int'l...</td>\n",
       "      <td>{'type': 'major', 'name': 'James M. Cox Dayton...</td>\n",
       "    </tr>\n",
       "    <tr>\n",
       "      <th>17</th>\n",
       "      <td>{'type': 'major', 'name': 'San Francisco Int'l...</td>\n",
       "      <td>{'type': 'major', 'name': 'Washington Nat'l', ...</td>\n",
       "    </tr>\n",
       "    <tr>\n",
       "      <th>18</th>\n",
       "      <td>{'type': 'major', 'name': 'San Francisco Int'l...</td>\n",
       "      <td>{'type': 'major', 'name': 'Donetsk', 'abbrev':...</td>\n",
       "    </tr>\n",
       "    <tr>\n",
       "      <th>19</th>\n",
       "      <td>{'type': 'major', 'name': 'San Francisco Int'l...</td>\n",
       "      <td>{'type': 'major', 'name': 'Edinburgh Int'l', '...</td>\n",
       "    </tr>\n",
       "  </tbody>\n",
       "</table>\n",
       "</div>"
      ],
      "text/plain": [
       "                                                 from  \\\n",
       "0   {'type': 'major', 'name': 'San Francisco Int'l...   \n",
       "1   {'type': 'major', 'name': 'San Francisco Int'l...   \n",
       "2   {'type': 'major', 'name': 'San Francisco Int'l...   \n",
       "3   {'type': 'major', 'name': 'San Francisco Int'l...   \n",
       "4   {'type': 'major', 'name': 'San Francisco Int'l...   \n",
       "5   {'type': 'major', 'name': 'San Francisco Int'l...   \n",
       "6   {'type': 'major', 'name': 'San Francisco Int'l...   \n",
       "7   {'type': 'major', 'name': 'San Francisco Int'l...   \n",
       "8   {'type': 'major', 'name': 'San Francisco Int'l...   \n",
       "9   {'type': 'major', 'name': 'San Francisco Int'l...   \n",
       "10  {'type': 'major', 'name': 'San Francisco Int'l...   \n",
       "11  {'type': 'major', 'name': 'San Francisco Int'l...   \n",
       "12  {'type': 'major', 'name': 'San Francisco Int'l...   \n",
       "13  {'type': 'major', 'name': 'San Francisco Int'l...   \n",
       "14  {'type': 'major', 'name': 'San Francisco Int'l...   \n",
       "15  {'type': 'major', 'name': 'San Francisco Int'l...   \n",
       "16  {'type': 'major', 'name': 'San Francisco Int'l...   \n",
       "17  {'type': 'major', 'name': 'San Francisco Int'l...   \n",
       "18  {'type': 'major', 'name': 'San Francisco Int'l...   \n",
       "19  {'type': 'major', 'name': 'San Francisco Int'l...   \n",
       "\n",
       "                                                   to  \n",
       "0   {'type': 'major', 'name': 'Liverpool John Lenn...  \n",
       "1   {'type': 'major', 'name': 'Newcastle Int'l', '...  \n",
       "2   {'type': 'major', 'name': 'Madinah Int'l', 'ab...  \n",
       "3   {'type': 'major', 'name': 'Sakirpasa', 'abbrev...  \n",
       "4   {'type': 'major', 'name': 'Amarillo Int'l', 'a...  \n",
       "5   {'type': 'major', 'name': 'Birmingham Int'l', ...  \n",
       "6   {'type': 'major', 'name': 'Logan Int'l', 'abbr...  \n",
       "7   {'type': 'major', 'name': 'Bourgas', 'abbrev':...  \n",
       "8   {'type': 'major', 'name': 'Bremen', 'abbrev': ...  \n",
       "9   {'type': 'major', 'name': 'Bristol Int'l', 'ab...  \n",
       "10  {'type': 'major', 'name': 'Baton Rouge Metro',...  \n",
       "11  {'type': 'major', 'name': 'Bratislava-M.R. Ste...  \n",
       "12  {'type': 'major', 'name': 'Columbia Metro', 'a...  \n",
       "13  {'type': 'major', 'name': 'Casper/Natrona Coun...  \n",
       "14  {'type': 'major', 'name': 'Catania Fontanaross...  \n",
       "15  {'type': 'major', 'name': 'Cardiff', 'abbrev':...  \n",
       "16  {'type': 'major', 'name': 'James M. Cox Dayton...  \n",
       "17  {'type': 'major', 'name': 'Washington Nat'l', ...  \n",
       "18  {'type': 'major', 'name': 'Donetsk', 'abbrev':...  \n",
       "19  {'type': 'major', 'name': 'Edinburgh Int'l', '...  "
      ]
     },
     "execution_count": 396,
     "metadata": {},
     "output_type": "execute_result"
    }
   ],
   "source": [
    "df"
   ]
  },
  {
   "cell_type": "code",
   "execution_count": 397,
   "metadata": {},
   "outputs": [],
   "source": [
    "def list_varaibles (var):\n",
    "    lista = list(var[0].keys())\n",
    "    lista_delete = ['date','country','continent','latitude','longitude',\n",
    "                    'Year','Month','Week','Day','Year-Week']\n",
    "    for x in lista_delete:\n",
    "        if x in lista:\n",
    "            lista.remove(x)\n",
    "    return lista"
   ]
  },
  {
   "cell_type": "code",
   "execution_count": 398,
   "metadata": {},
   "outputs": [],
   "source": [
    "country1 = [\n",
    "    {\n",
    "        \"date\": {\n",
    "            \"$date\": \"2020-03-03T00:00:00Z\"\n",
    "        },\n",
    "        \"country\": \"Spain\",\n",
    "        \"totalConfirmed\": 165\n",
    "    },\n",
    "    {\n",
    "        \"date\": {\n",
    "            \"$date\": \"2020-03-04T00:00:00Z\"\n",
    "        },\n",
    "        \"country\": \"Spain\",\n",
    "        \"totalConfirmed\": 222\n",
    "    },\n",
    "    {\n",
    "        \"date\": {\n",
    "            \"$date\": \"2020-03-05T00:00:00Z\"\n",
    "        },\n",
    "        \"country\": \"Spain\",\n",
    "        \"totalConfirmed\": 259\n",
    "    },\n",
    "    {\n",
    "        \"date\": {\n",
    "            \"$date\": \"2020-03-06T00:00:00Z\"\n",
    "        },\n",
    "        \"country\": \"Spain\",\n",
    "        \"totalConfirmed\": 400\n",
    "    }]"
   ]
  },
  {
   "cell_type": "code",
   "execution_count": 399,
   "metadata": {},
   "outputs": [
    {
     "data": {
      "text/plain": [
       "['totalConfirmed']"
      ]
     },
     "execution_count": 399,
     "metadata": {},
     "output_type": "execute_result"
    }
   ],
   "source": [
    "list_varaibles(country1)"
   ]
  },
  {
   "cell_type": "code",
   "execution_count": 400,
   "metadata": {},
   "outputs": [],
   "source": [
    "country2 = [\n",
    "    {\n",
    "        \"date\": {\n",
    "            \"$date\": \"2020-03-03T00:00:00Z\"\n",
    "        },\n",
    "        \"country\": \"Austria\",\n",
    "        \"totalConfirmed\": 302\n",
    "    },\n",
    "    {\n",
    "        \"date\": {\n",
    "            \"$date\": \"2020-03-04T00:00:00Z\"\n",
    "        },\n",
    "        \"country\": \"Austria\",\n",
    "        \"totalConfirmed\": 1018\n",
    "    },\n",
    "    {\n",
    "        \"date\": {\n",
    "            \"$date\": \"2020-03-05T00:00:00Z\"\n",
    "        },\n",
    "        \"country\": \"Austria\",\n",
    "        \"totalConfirmed\": 1646\n",
    "    },\n",
    "    {\n",
    "        \"date\": {\n",
    "            \"$date\": \"2020-03-06T00:00:00Z\"\n",
    "        },\n",
    "        \"country\": \"Austria\",\n",
    "        \"totalConfirmed\": 2013\n",
    "    },\n",
    "    {\n",
    "        \"date\": {\n",
    "            \"$date\": \"2020-03-07T00:00:00Z\"\n",
    "        },\n",
    "        \"country\": \"Austria\",\n",
    "        \"totalConfirmed\": 2013\n",
    "    }]"
   ]
  },
  {
   "cell_type": "code",
   "execution_count": 401,
   "metadata": {},
   "outputs": [],
   "source": [
    "fecha_inicio = '2020-03-04'\n",
    "fecha_fin = '2020-03-06'\n",
    "\n",
    "\n",
    "def limpieza_variables_pais (var):\n",
    "    lista = list(var[0].keys())\n",
    "    lista_delete = ['continent','latitude','longitude',\n",
    "                    'Year','Month','Week','Day','Year-Week']\n",
    "    for x in lista_delete:\n",
    "        if x in lista:\n",
    "            lista.remove(x)\n",
    "    return lista\n",
    "\n",
    "var = 'totalConfirmed'\n",
    "\n",
    "def country_one_var_df (core_df,var,fecha_inicial,fecha_final):\n",
    "    columnas = limpieza_variables_pais(core_df)\n",
    "    core_df = pd.DataFrame(core_df, columns = columnas)\n",
    "    core_df = core_df.drop(core_df.columns.difference(['date','country',var]),axis=1)\n",
    "    core_df['date'] = core_df['date'].apply(lambda x: list(x.values())[0][0:10])\n",
    "    core_df[var] = core_df[var].astype(float)\n",
    "    core_df['country'] = core_df['country'].astype(str)\n",
    "    country_name = core_df['country'][0]\n",
    "    core_df = core_df.rename(columns={var: country_name})\n",
    "    core_df = core_df.drop(['country'],axis=1)\n",
    "    core_df['date'] = pd.to_datetime(core_df['date'])\n",
    "    filter_fecha_inicial = core_df['date'] >= fecha_inicial\n",
    "    core_df = core_df[filter_fecha_inicial]\n",
    "    filter_fecha_final = core_df['date'] <= fecha_final\n",
    "    core_df = core_df[filter_fecha_final]\n",
    "\n",
    "    return core_df"
   ]
  },
  {
   "cell_type": "code",
   "execution_count": 402,
   "metadata": {},
   "outputs": [
    {
     "name": "stdout",
     "output_type": "stream",
     "text": [
      "[{'date': {'$date': '2020-03-03T00:00:00Z'}, 'country': 'Spain', 'totalConfirmed': 165}, {'date': {'$date': '2020-03-04T00:00:00Z'}, 'country': 'Spain', 'totalConfirmed': 222}, {'date': {'$date': '2020-03-05T00:00:00Z'}, 'country': 'Spain', 'totalConfirmed': 259}, {'date': {'$date': '2020-03-06T00:00:00Z'}, 'country': 'Spain', 'totalConfirmed': 400}]\n",
      "['date', 'country', 'totalConfirmed']\n"
     ]
    },
    {
     "data": {
      "text/plain": [
       "['date', 'country', 'totalConfirmed']"
      ]
     },
     "execution_count": 402,
     "metadata": {},
     "output_type": "execute_result"
    }
   ],
   "source": [
    "def limpieza_variables_pais (country1):\n",
    "    lista = list(country1[0].keys())\n",
    "    lista_delete = ['continent','latitude','longitude',\n",
    "                    'Year','Month','Week','Day','Year-Week']\n",
    "    for x in lista_delete:\n",
    "        if x in lista:\n",
    "            lista.remove(x)\n",
    "    return lista\n",
    "\n",
    "limpieza_variables_pais (country1)"
   ]
  },
  {
   "cell_type": "code",
   "execution_count": 403,
   "metadata": {},
   "outputs": [
    {
     "name": "stdout",
     "output_type": "stream",
     "text": [
      "[{'date': {'$date': '2020-03-03T00:00:00Z'}, 'country': 'Spain', 'totalConfirmed': 165}, {'date': {'$date': '2020-03-04T00:00:00Z'}, 'country': 'Spain', 'totalConfirmed': 222}, {'date': {'$date': '2020-03-05T00:00:00Z'}, 'country': 'Spain', 'totalConfirmed': 259}, {'date': {'$date': '2020-03-06T00:00:00Z'}, 'country': 'Spain', 'totalConfirmed': 400}]\n",
      "['date', 'country', 'totalConfirmed']\n"
     ]
    },
    {
     "data": {
      "text/html": [
       "<div>\n",
       "<style scoped>\n",
       "    .dataframe tbody tr th:only-of-type {\n",
       "        vertical-align: middle;\n",
       "    }\n",
       "\n",
       "    .dataframe tbody tr th {\n",
       "        vertical-align: top;\n",
       "    }\n",
       "\n",
       "    .dataframe thead th {\n",
       "        text-align: right;\n",
       "    }\n",
       "</style>\n",
       "<table border=\"1\" class=\"dataframe\">\n",
       "  <thead>\n",
       "    <tr style=\"text-align: right;\">\n",
       "      <th></th>\n",
       "      <th>date</th>\n",
       "      <th>Spain</th>\n",
       "    </tr>\n",
       "  </thead>\n",
       "  <tbody>\n",
       "    <tr>\n",
       "      <th>1</th>\n",
       "      <td>2020-03-04</td>\n",
       "      <td>222.0</td>\n",
       "    </tr>\n",
       "    <tr>\n",
       "      <th>2</th>\n",
       "      <td>2020-03-05</td>\n",
       "      <td>259.0</td>\n",
       "    </tr>\n",
       "    <tr>\n",
       "      <th>3</th>\n",
       "      <td>2020-03-06</td>\n",
       "      <td>400.0</td>\n",
       "    </tr>\n",
       "  </tbody>\n",
       "</table>\n",
       "</div>"
      ],
      "text/plain": [
       "        date  Spain\n",
       "1 2020-03-04  222.0\n",
       "2 2020-03-05  259.0\n",
       "3 2020-03-06  400.0"
      ]
     },
     "execution_count": 403,
     "metadata": {},
     "output_type": "execute_result"
    }
   ],
   "source": [
    "df_country1 = country_one_var_df(country1,'totalConfirmed',fecha_inicio,fecha_fin)\n",
    "df_country1"
   ]
  },
  {
   "cell_type": "code",
   "execution_count": 404,
   "metadata": {},
   "outputs": [
    {
     "name": "stdout",
     "output_type": "stream",
     "text": [
      "[{'date': {'$date': '2020-03-03T00:00:00Z'}, 'country': 'Austria', 'totalConfirmed': 302}, {'date': {'$date': '2020-03-04T00:00:00Z'}, 'country': 'Austria', 'totalConfirmed': 1018}, {'date': {'$date': '2020-03-05T00:00:00Z'}, 'country': 'Austria', 'totalConfirmed': 1646}, {'date': {'$date': '2020-03-06T00:00:00Z'}, 'country': 'Austria', 'totalConfirmed': 2013}, {'date': {'$date': '2020-03-07T00:00:00Z'}, 'country': 'Austria', 'totalConfirmed': 2013}]\n",
      "['date', 'country', 'totalConfirmed']\n"
     ]
    },
    {
     "data": {
      "text/html": [
       "<div>\n",
       "<style scoped>\n",
       "    .dataframe tbody tr th:only-of-type {\n",
       "        vertical-align: middle;\n",
       "    }\n",
       "\n",
       "    .dataframe tbody tr th {\n",
       "        vertical-align: top;\n",
       "    }\n",
       "\n",
       "    .dataframe thead th {\n",
       "        text-align: right;\n",
       "    }\n",
       "</style>\n",
       "<table border=\"1\" class=\"dataframe\">\n",
       "  <thead>\n",
       "    <tr style=\"text-align: right;\">\n",
       "      <th></th>\n",
       "      <th>date</th>\n",
       "      <th>Austria</th>\n",
       "    </tr>\n",
       "  </thead>\n",
       "  <tbody>\n",
       "    <tr>\n",
       "      <th>1</th>\n",
       "      <td>2020-03-04</td>\n",
       "      <td>1018.0</td>\n",
       "    </tr>\n",
       "    <tr>\n",
       "      <th>2</th>\n",
       "      <td>2020-03-05</td>\n",
       "      <td>1646.0</td>\n",
       "    </tr>\n",
       "    <tr>\n",
       "      <th>3</th>\n",
       "      <td>2020-03-06</td>\n",
       "      <td>2013.0</td>\n",
       "    </tr>\n",
       "  </tbody>\n",
       "</table>\n",
       "</div>"
      ],
      "text/plain": [
       "        date  Austria\n",
       "1 2020-03-04   1018.0\n",
       "2 2020-03-05   1646.0\n",
       "3 2020-03-06   2013.0"
      ]
     },
     "execution_count": 404,
     "metadata": {},
     "output_type": "execute_result"
    }
   ],
   "source": [
    "df_country2 = country_one_var_df(country2,'totalConfirmed',fecha_inicio,fecha_fin)\n",
    "df_country2"
   ]
  },
  {
   "cell_type": "code",
   "execution_count": 405,
   "metadata": {},
   "outputs": [
    {
     "data": {
      "text/html": [
       "<div>\n",
       "<style scoped>\n",
       "    .dataframe tbody tr th:only-of-type {\n",
       "        vertical-align: middle;\n",
       "    }\n",
       "\n",
       "    .dataframe tbody tr th {\n",
       "        vertical-align: top;\n",
       "    }\n",
       "\n",
       "    .dataframe thead th {\n",
       "        text-align: right;\n",
       "    }\n",
       "</style>\n",
       "<table border=\"1\" class=\"dataframe\">\n",
       "  <thead>\n",
       "    <tr style=\"text-align: right;\">\n",
       "      <th></th>\n",
       "      <th>Spain</th>\n",
       "      <th>Austria</th>\n",
       "    </tr>\n",
       "    <tr>\n",
       "      <th>date</th>\n",
       "      <th></th>\n",
       "      <th></th>\n",
       "    </tr>\n",
       "  </thead>\n",
       "  <tbody>\n",
       "    <tr>\n",
       "      <th>2020-03-04</th>\n",
       "      <td>222.0</td>\n",
       "      <td>1018.0</td>\n",
       "    </tr>\n",
       "    <tr>\n",
       "      <th>2020-03-05</th>\n",
       "      <td>259.0</td>\n",
       "      <td>1646.0</td>\n",
       "    </tr>\n",
       "    <tr>\n",
       "      <th>2020-03-06</th>\n",
       "      <td>400.0</td>\n",
       "      <td>2013.0</td>\n",
       "    </tr>\n",
       "  </tbody>\n",
       "</table>\n",
       "</div>"
      ],
      "text/plain": [
       "            Spain  Austria\n",
       "date                      \n",
       "2020-03-04  222.0   1018.0\n",
       "2020-03-05  259.0   1646.0\n",
       "2020-03-06  400.0   2013.0"
      ]
     },
     "execution_count": 405,
     "metadata": {},
     "output_type": "execute_result"
    }
   ],
   "source": [
    "def merge_country_data(df1,df2):\n",
    "    df = pd.merge(df1, df2 , how='inner', on='date')\n",
    "    df = df.set_index('date')\n",
    "    return df\n",
    "\n",
    "merge_country_data(df_country1,df_country2)"
   ]
  },
  {
   "cell_type": "markdown",
   "metadata": {},
   "source": [
    "Funcion comparacion de paises"
   ]
  },
  {
   "cell_type": "code",
   "execution_count": 406,
   "metadata": {},
   "outputs": [],
   "source": [
    "# Recibo un dataframe, nombre pais 1, nombre pais 2, nombre de la columna\n",
    "# fecha inicio y fecha final "
   ]
  },
  {
   "cell_type": "code",
   "execution_count": 411,
   "metadata": {},
   "outputs": [],
   "source": [
    "var  = country1"
   ]
  },
  {
   "cell_type": "code",
   "execution_count": 412,
   "metadata": {},
   "outputs": [],
   "source": [
    "def limpieza_variables_pais (var):\n",
    "    lista = list(var[0].keys())\n",
    "    lista_delete = ['continent','latitude','longitude',\n",
    "                    'Year','Month','Week','Day','Year-Week']\n",
    "    for x in lista_delete:\n",
    "        if x in lista:\n",
    "            lista.remove(x)\n",
    "    return lista"
   ]
  },
  {
   "cell_type": "code",
   "execution_count": 413,
   "metadata": {},
   "outputs": [
    {
     "data": {
      "text/plain": [
       "['date', 'country', 'totalConfirmed']"
      ]
     },
     "execution_count": 413,
     "metadata": {},
     "output_type": "execute_result"
    }
   ],
   "source": [
    "limpieza_variables_pais (var)"
   ]
  }
 ],
 "metadata": {
  "interpreter": {
   "hash": "d0493199427ef061cb3b6912ede36f63d4e203655e7b69a0bcc0db7ae4af873e"
  },
  "kernelspec": {
   "display_name": "Python 3.9.7 64-bit ('core': conda)",
   "language": "python",
   "name": "python3"
  },
  "language_info": {
   "codemirror_mode": {
    "name": "ipython",
    "version": 3
   },
   "file_extension": ".py",
   "mimetype": "text/x-python",
   "name": "python",
   "nbconvert_exporter": "python",
   "pygments_lexer": "ipython3",
   "version": "3.9.7"
  },
  "orig_nbformat": 4
 },
 "nbformat": 4,
 "nbformat_minor": 2
}
