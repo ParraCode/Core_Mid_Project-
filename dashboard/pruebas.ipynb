{
 "cells": [
  {
   "cell_type": "code",
   "execution_count": 52,
   "metadata": {},
   "outputs": [],
   "source": [
    "import pandas as pd\n",
    "import numpy as np"
   ]
  },
  {
   "cell_type": "code",
   "execution_count": 53,
   "metadata": {},
   "outputs": [],
   "source": [
    "data = [\n",
    "    {\n",
    "        \"country\": \"Afghanistan\",\n",
    "        \"confirmedDay\": 6,\n",
    "        \"population\": 39835428\n",
    "    },\n",
    "    {\n",
    "        \"country\": \"Afghanistan\",\n",
    "        \"confirmedDay\": 6,\n",
    "        \"population\": 39835428\n",
    "    },\n",
    "    {\n",
    "        \"country\": \"Afghanistan\",\n",
    "        \"confirmedDay\": 8,\n",
    "        \"population\": 39835428\n",
    "    },\n",
    "    {\n",
    "        \"country\": \"Afghanistan\",\n",
    "        \"confirmedDay\": 34,\n",
    "        \"population\": 39835428\n",
    "    },\n",
    "    {\n",
    "        \"country\": \"Afghanistan\",\n",
    "        \"confirmedDay\": 29,\n",
    "        \"population\": 39835428\n",
    "    },\n",
    "    {\n",
    "        \"country\": \"Afghanistan\",\n",
    "        \"confirmedDay\": 30,\n",
    "        \"population\": 39835428\n",
    "    },\n",
    "    {\n",
    "        \"country\": \"Afghanistan\",\n",
    "        \"confirmedDay\": 56,\n",
    "        \"population\": 39835428\n",
    "    },\n",
    "    {\n",
    "        \"country\": \"Afghanistan\",\n",
    "        \"confirmedDay\": 21,\n",
    "        \"population\": 39835428\n",
    "    },\n",
    "    {\n",
    "        \"country\": \"Afghanistan\",\n",
    "        \"confirmedDay\": 34,\n",
    "        \"population\": 39835428\n",
    "    },\n",
    "    {\n",
    "        \"country\": \"Afghanistan\",\n",
    "        \"confirmedDay\": 52,\n",
    "        \"population\": 39835428\n",
    "    },\n",
    "    {\n",
    "        \"country\": \"Austria\",\n",
    "        \"confirmedDay\": 58,\n",
    "        \"population\": 39835428\n",
    "    }]"
   ]
  },
  {
   "cell_type": "code",
   "execution_count": 54,
   "metadata": {},
   "outputs": [],
   "source": [
    "var = 'confirmedDay'"
   ]
  },
  {
   "cell_type": "code",
   "execution_count": 55,
   "metadata": {},
   "outputs": [],
   "source": [
    "def country_one_var_df_map (core_df,var):\n",
    "    columnas = ['country','population',var]\n",
    "    core_df = pd.DataFrame(core_df, columns = columnas)\n",
    "    core_df[var] = core_df[var] / core_df['population']\n",
    "    core_df = core_df.drop(['population'],axis=1)\n",
    "    core_df = core_df.groupby(['country']).sum().reset_index()\n",
    "    return core_df"
   ]
  },
  {
   "cell_type": "code",
   "execution_count": 56,
   "metadata": {},
   "outputs": [
    {
     "data": {
      "text/html": [
       "<div>\n",
       "<style scoped>\n",
       "    .dataframe tbody tr th:only-of-type {\n",
       "        vertical-align: middle;\n",
       "    }\n",
       "\n",
       "    .dataframe tbody tr th {\n",
       "        vertical-align: top;\n",
       "    }\n",
       "\n",
       "    .dataframe thead th {\n",
       "        text-align: right;\n",
       "    }\n",
       "</style>\n",
       "<table border=\"1\" class=\"dataframe\">\n",
       "  <thead>\n",
       "    <tr style=\"text-align: right;\">\n",
       "      <th></th>\n",
       "      <th>country</th>\n",
       "      <th>confirmedDay</th>\n",
       "    </tr>\n",
       "  </thead>\n",
       "  <tbody>\n",
       "    <tr>\n",
       "      <th>0</th>\n",
       "      <td>Afghanistan</td>\n",
       "      <td>0.000007</td>\n",
       "    </tr>\n",
       "    <tr>\n",
       "      <th>1</th>\n",
       "      <td>Austria</td>\n",
       "      <td>0.000001</td>\n",
       "    </tr>\n",
       "  </tbody>\n",
       "</table>\n",
       "</div>"
      ],
      "text/plain": [
       "       country  confirmedDay\n",
       "0  Afghanistan      0.000007\n",
       "1      Austria      0.000001"
      ]
     },
     "execution_count": 56,
     "metadata": {},
     "output_type": "execute_result"
    }
   ],
   "source": [
    "country_one_var_df_map(data,var)"
   ]
  }
 ],
 "metadata": {
  "interpreter": {
   "hash": "d0493199427ef061cb3b6912ede36f63d4e203655e7b69a0bcc0db7ae4af873e"
  },
  "kernelspec": {
   "display_name": "Python 3.9.7 64-bit ('core': conda)",
   "language": "python",
   "name": "python3"
  },
  "language_info": {
   "codemirror_mode": {
    "name": "ipython",
    "version": 3
   },
   "file_extension": ".py",
   "mimetype": "text/x-python",
   "name": "python",
   "nbconvert_exporter": "python",
   "pygments_lexer": "ipython3",
   "version": "3.9.7"
  },
  "orig_nbformat": 4
 },
 "nbformat": 4,
 "nbformat_minor": 2
}
