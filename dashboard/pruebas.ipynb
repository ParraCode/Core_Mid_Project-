{
 "cells": [
  {
   "cell_type": "code",
   "execution_count": 7,
   "metadata": {},
   "outputs": [],
   "source": [
    "def fecha_int_transf (core_df):\n",
    "    import pandas as pd\n",
    "    core_df = pd.DataFrame(core_df, columns = ['date','confirmedDay', 'deathsDay'])\n",
    "    #core_df = core_df.drop(['_id'], axis=1)\n",
    "    core_df['date'] = core_df['date'].apply(lambda x: list(x.values())[0][0:7])\n",
    "    #core_df['date'] = pd.to_datetime(core_df['date'])\n",
    "    #core_df = core_df.set_index(['date'])\n",
    "    core_df = core_df.sort_values(by='date', ascending=False)\n",
    "    core_df = core_df.groupby('date').sum()\n",
    "    return core_df"
   ]
  },
  {
   "cell_type": "code",
   "execution_count": 8,
   "metadata": {},
   "outputs": [],
   "source": [
    "def fechaYW_int_transf (core_df):\n",
    "    import pandas as pd\n",
    "    core_df = pd.DataFrame(core_df, columns = ['_id', 'Year-Week','date','confirmedDay', 'deathsDay'])\n",
    "    core_df = core_df.drop(['_id'], axis=1)\n",
    "    core_df['date'] = core_df['date'].apply(lambda x: list(x.values())[0][0:10])\n",
    "    core_df['date'] = pd.to_datetime(core_df['date'])\n",
    "    core_df = core_df.groupby('Year-Week').sum()\n",
    "    return core_df"
   ]
  },
  {
   "cell_type": "code",
   "execution_count": 9,
   "metadata": {},
   "outputs": [],
   "source": [
    "db = [\n",
    "    {\n",
    "        \"date\": {\n",
    "            \"$date\": \"2020-03-23T00:00:00Z\"\n",
    "        },\n",
    "        \"continent\": \"Asia\",\n",
    "        \"country\": \"Afghanistan\",\n",
    "        \"totalConfirmed\": 40,\n",
    "        \"totalDeaths\": 1,\n",
    "        \"confirmedDay\": 6,\n",
    "        \"deathsDay\": 1,\n",
    "        \"icuPatients\": \"0\",\n",
    "        \"hospPatients\": \"0\",\n",
    "        \"positiveRate\": {\n",
    "            \"$numberDecimal\": \"0.0\"\n",
    "        },\n",
    "        \"newVaccinations\": 0,\n",
    "        \"vaccinatedPerHundred\": {\n",
    "            \"$numberDecimal\": \"0.0\"\n",
    "        },\n",
    "        \"fullyVaccinatedPerHundred\": {\n",
    "            \"$numberDecimal\": \"0.0\"\n",
    "        }\n",
    "    },\n",
    "    {\n",
    "        \"date\": {\n",
    "            \"$date\": \"2020-03-26T00:00:00Z\"\n",
    "        },\n",
    "        \"continent\": \"Asia\",\n",
    "        \"country\": \"Afghanistan\",\n",
    "        \"totalConfirmed\": 80,\n",
    "        \"totalDeaths\": 2,\n",
    "        \"confirmedDay\": 6,\n",
    "        \"deathsDay\": 1,\n",
    "        \"icuPatients\": \"0\",\n",
    "        \"hospPatients\": \"0\",\n",
    "        \"positiveRate\": {\n",
    "            \"$numberDecimal\": \"0.0\"\n",
    "        },\n",
    "        \"newVaccinations\": 0,\n",
    "        \"vaccinatedPerHundred\": {\n",
    "            \"$numberDecimal\": \"0.0\"\n",
    "        },\n",
    "        \"fullyVaccinatedPerHundred\": {\n",
    "            \"$numberDecimal\": \"0.0\"\n",
    "        }\n",
    "    }]"
   ]
  },
  {
   "cell_type": "code",
   "execution_count": 16,
   "metadata": {},
   "outputs": [],
   "source": [
    "def alldb (core_df):\n",
    "    import pandas as pd\n",
    "    core_df = pd.DataFrame(core_df, columns = ['date', 'continent','country', 'totalConfirmed', 'confirmedDay','deathsDay','icuPatients', 'hospPatients','positiveRate','newVaccinations','vaccinatedPerHundred','fullyVaccinatedPerHundred'])\n",
    "    core_df['date'] = core_df['date'].apply(lambda x: list(x.values())[0][0:10])\n",
    "    core_df['positiveRate'] = core_df['positiveRate'].apply(lambda x: list(x.values())[0])\n",
    "    core_df['vaccinatedPerHundred'] = core_df['vaccinatedPerHundred'].apply(lambda x: list(x.values())[0])\n",
    "    core_df['fullyVaccinatedPerHundred'] = core_df['fullyVaccinatedPerHundred'].apply(lambda x: list(x.values())[0])\n",
    "    core_df['date'] = pd.to_datetime(core_df['date'])\n",
    "    return core_df"
   ]
  },
  {
   "cell_type": "code",
   "execution_count": 11,
   "metadata": {},
   "outputs": [
    {
     "data": {
      "text/plain": [
       "{'$date': '2020-03-23T00:00:00Z'}"
      ]
     },
     "execution_count": 11,
     "metadata": {},
     "output_type": "execute_result"
    }
   ],
   "source": [
    "db[0]['date']"
   ]
  },
  {
   "cell_type": "code",
   "execution_count": 17,
   "metadata": {},
   "outputs": [
    {
     "data": {
      "text/plain": [
       "'2020-03-23'"
      ]
     },
     "execution_count": 17,
     "metadata": {},
     "output_type": "execute_result"
    }
   ],
   "source": [
    "list(db[0]['date'].values())[0][0:10]"
   ]
  },
  {
   "cell_type": "code",
   "execution_count": 18,
   "metadata": {},
   "outputs": [
    {
     "data": {
      "text/html": [
       "<div>\n",
       "<style scoped>\n",
       "    .dataframe tbody tr th:only-of-type {\n",
       "        vertical-align: middle;\n",
       "    }\n",
       "\n",
       "    .dataframe tbody tr th {\n",
       "        vertical-align: top;\n",
       "    }\n",
       "\n",
       "    .dataframe thead th {\n",
       "        text-align: right;\n",
       "    }\n",
       "</style>\n",
       "<table border=\"1\" class=\"dataframe\">\n",
       "  <thead>\n",
       "    <tr style=\"text-align: right;\">\n",
       "      <th></th>\n",
       "      <th>date</th>\n",
       "      <th>continent</th>\n",
       "      <th>country</th>\n",
       "      <th>totalConfirmed</th>\n",
       "      <th>confirmedDay</th>\n",
       "      <th>deathsDay</th>\n",
       "      <th>icuPatients</th>\n",
       "      <th>hospPatients</th>\n",
       "      <th>positiveRate</th>\n",
       "      <th>newVaccinations</th>\n",
       "      <th>vaccinatedPerHundred</th>\n",
       "      <th>fullyVaccinatedPerHundred</th>\n",
       "    </tr>\n",
       "  </thead>\n",
       "  <tbody>\n",
       "    <tr>\n",
       "      <th>0</th>\n",
       "      <td>2020-03-23</td>\n",
       "      <td>Asia</td>\n",
       "      <td>Afghanistan</td>\n",
       "      <td>40</td>\n",
       "      <td>6</td>\n",
       "      <td>1</td>\n",
       "      <td>0</td>\n",
       "      <td>0</td>\n",
       "      <td>0.0</td>\n",
       "      <td>0</td>\n",
       "      <td>0.0</td>\n",
       "      <td>0.0</td>\n",
       "    </tr>\n",
       "    <tr>\n",
       "      <th>1</th>\n",
       "      <td>2020-03-26</td>\n",
       "      <td>Asia</td>\n",
       "      <td>Afghanistan</td>\n",
       "      <td>80</td>\n",
       "      <td>6</td>\n",
       "      <td>1</td>\n",
       "      <td>0</td>\n",
       "      <td>0</td>\n",
       "      <td>0.0</td>\n",
       "      <td>0</td>\n",
       "      <td>0.0</td>\n",
       "      <td>0.0</td>\n",
       "    </tr>\n",
       "  </tbody>\n",
       "</table>\n",
       "</div>"
      ],
      "text/plain": [
       "        date continent      country  totalConfirmed  confirmedDay  deathsDay  \\\n",
       "0 2020-03-23      Asia  Afghanistan              40             6          1   \n",
       "1 2020-03-26      Asia  Afghanistan              80             6          1   \n",
       "\n",
       "  icuPatients hospPatients positiveRate  newVaccinations vaccinatedPerHundred  \\\n",
       "0           0            0          0.0                0                  0.0   \n",
       "1           0            0          0.0                0                  0.0   \n",
       "\n",
       "  fullyVaccinatedPerHundred  \n",
       "0                       0.0  \n",
       "1                       0.0  "
      ]
     },
     "execution_count": 18,
     "metadata": {},
     "output_type": "execute_result"
    }
   ],
   "source": [
    "alldb(db)"
   ]
  }
 ],
 "metadata": {
  "interpreter": {
   "hash": "d0493199427ef061cb3b6912ede36f63d4e203655e7b69a0bcc0db7ae4af873e"
  },
  "kernelspec": {
   "display_name": "Python 3.9.7 64-bit ('core': conda)",
   "language": "python",
   "name": "python3"
  },
  "language_info": {
   "codemirror_mode": {
    "name": "ipython",
    "version": 3
   },
   "file_extension": ".py",
   "mimetype": "text/x-python",
   "name": "python",
   "nbconvert_exporter": "python",
   "pygments_lexer": "ipython3",
   "version": "3.9.7"
  },
  "orig_nbformat": 4
 },
 "nbformat": 4,
 "nbformat_minor": 2
}
